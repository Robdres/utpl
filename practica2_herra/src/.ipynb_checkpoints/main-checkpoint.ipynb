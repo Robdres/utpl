{
 "cells": [
  {
   "cell_type": "markdown",
   "id": "6d965c44-115b-4ef6-a377-a796d350c8a7",
   "metadata": {},
   "source": [
    "# Herramientas de inteligencia artificial\n",
    "Roberto Alvarado\n",
    "\n",
    "UTPL\n",
    "\n",
    "Práctica 2\n",
    "\n",
    "Hice una versión más completa del trabajo aqui "
   ]
  },
  {
   "cell_type": "markdown",
   "id": "45999bae-7c1e-418c-a149-221b24869e54",
   "metadata": {},
   "source": [
    "# Consiguiendo datos del database y limpiadolos"
   ]
  },
  {
   "cell_type": "code",
   "execution_count": 1,
   "id": "2efd4cab-ee3c-4d0a-b285-e6ca25767703",
   "metadata": {},
   "outputs": [
    {
     "data": {
      "text/html": [
       "<div>\n",
       "<style scoped>\n",
       "    .dataframe tbody tr th:only-of-type {\n",
       "        vertical-align: middle;\n",
       "    }\n",
       "\n",
       "    .dataframe tbody tr th {\n",
       "        vertical-align: top;\n",
       "    }\n",
       "\n",
       "    .dataframe thead th {\n",
       "        text-align: right;\n",
       "    }\n",
       "</style>\n",
       "<table border=\"1\" class=\"dataframe\">\n",
       "  <thead>\n",
       "    <tr style=\"text-align: right;\">\n",
       "      <th></th>\n",
       "      <th>Age</th>\n",
       "      <th>Sex</th>\n",
       "      <th>ChestPainType</th>\n",
       "      <th>RestingBP</th>\n",
       "      <th>Cholesterol</th>\n",
       "      <th>FastingBS</th>\n",
       "      <th>RestingECG</th>\n",
       "      <th>MaxHR</th>\n",
       "      <th>ExerciseAngina</th>\n",
       "      <th>Oldpeak</th>\n",
       "      <th>ST_Slope</th>\n",
       "      <th>HeartDisease</th>\n",
       "    </tr>\n",
       "  </thead>\n",
       "  <tbody>\n",
       "    <tr>\n",
       "      <th>0</th>\n",
       "      <td>40</td>\n",
       "      <td>M</td>\n",
       "      <td>ATA</td>\n",
       "      <td>140</td>\n",
       "      <td>289</td>\n",
       "      <td>0</td>\n",
       "      <td>Normal</td>\n",
       "      <td>172</td>\n",
       "      <td>N</td>\n",
       "      <td>0.0</td>\n",
       "      <td>Up</td>\n",
       "      <td>0</td>\n",
       "    </tr>\n",
       "    <tr>\n",
       "      <th>1</th>\n",
       "      <td>49</td>\n",
       "      <td>F</td>\n",
       "      <td>NAP</td>\n",
       "      <td>160</td>\n",
       "      <td>180</td>\n",
       "      <td>0</td>\n",
       "      <td>Normal</td>\n",
       "      <td>156</td>\n",
       "      <td>N</td>\n",
       "      <td>1.0</td>\n",
       "      <td>Flat</td>\n",
       "      <td>1</td>\n",
       "    </tr>\n",
       "    <tr>\n",
       "      <th>2</th>\n",
       "      <td>37</td>\n",
       "      <td>M</td>\n",
       "      <td>ATA</td>\n",
       "      <td>130</td>\n",
       "      <td>283</td>\n",
       "      <td>0</td>\n",
       "      <td>ST</td>\n",
       "      <td>98</td>\n",
       "      <td>N</td>\n",
       "      <td>0.0</td>\n",
       "      <td>Up</td>\n",
       "      <td>0</td>\n",
       "    </tr>\n",
       "    <tr>\n",
       "      <th>3</th>\n",
       "      <td>48</td>\n",
       "      <td>F</td>\n",
       "      <td>ASY</td>\n",
       "      <td>138</td>\n",
       "      <td>214</td>\n",
       "      <td>0</td>\n",
       "      <td>Normal</td>\n",
       "      <td>108</td>\n",
       "      <td>Y</td>\n",
       "      <td>1.5</td>\n",
       "      <td>Flat</td>\n",
       "      <td>1</td>\n",
       "    </tr>\n",
       "    <tr>\n",
       "      <th>4</th>\n",
       "      <td>54</td>\n",
       "      <td>M</td>\n",
       "      <td>NAP</td>\n",
       "      <td>150</td>\n",
       "      <td>195</td>\n",
       "      <td>0</td>\n",
       "      <td>Normal</td>\n",
       "      <td>122</td>\n",
       "      <td>N</td>\n",
       "      <td>0.0</td>\n",
       "      <td>Up</td>\n",
       "      <td>0</td>\n",
       "    </tr>\n",
       "  </tbody>\n",
       "</table>\n",
       "</div>"
      ],
      "text/plain": [
       "   Age Sex ChestPainType  RestingBP  Cholesterol  FastingBS RestingECG  MaxHR  \\\n",
       "0   40   M           ATA        140          289          0     Normal    172   \n",
       "1   49   F           NAP        160          180          0     Normal    156   \n",
       "2   37   M           ATA        130          283          0         ST     98   \n",
       "3   48   F           ASY        138          214          0     Normal    108   \n",
       "4   54   M           NAP        150          195          0     Normal    122   \n",
       "\n",
       "  ExerciseAngina  Oldpeak ST_Slope  HeartDisease  \n",
       "0              N      0.0       Up             0  \n",
       "1              N      1.0     Flat             1  \n",
       "2              N      0.0       Up             0  \n",
       "3              Y      1.5     Flat             1  \n",
       "4              N      0.0       Up             0  "
      ]
     },
     "execution_count": 1,
     "metadata": {},
     "output_type": "execute_result"
    }
   ],
   "source": [
    "import pandas as pd\n",
    "#https://www.kaggle.com/datasets/fedesoriano/heart-failure-prediction/data\n",
    "database = pd.read_csv(\"database/heart.csv\")\n",
    "database.head()"
   ]
  },
  {
   "cell_type": "code",
   "execution_count": 2,
   "id": "ba907f16-92c3-435c-a7d1-31da43db9c14",
   "metadata": {},
   "outputs": [
    {
     "data": {
      "text/plain": [
       "{'M': 0, 'F': 1}"
      ]
     },
     "execution_count": 2,
     "metadata": {},
     "output_type": "execute_result"
    }
   ],
   "source": [
    "#Preprocesando \n",
    "def get_categories( column ):\n",
    "    labels = database[column].value_counts().index\n",
    "    return dict(zip(labels,range(len(labels))))\n",
    "get_categories(\"Sex\")"
   ]
  },
  {
   "cell_type": "code",
   "execution_count": 3,
   "id": "66fce3c5-3358-44b3-9241-dd6a597bff6b",
   "metadata": {},
   "outputs": [
    {
     "name": "stdout",
     "output_type": "stream",
     "text": [
      "ST_Slope\n",
      "New Category{'Flat': 0, 'Up': 1, 'Down': 2}\n",
      "ExerciseAngina\n",
      "New Category{'N': 0, 'Y': 1}\n",
      "Sex\n",
      "New Category{'M': 0, 'F': 1}\n",
      "RestingECG\n",
      "New Category{'Normal': 0, 'LVH': 1, 'ST': 2}\n",
      "ChestPainType\n",
      "New Category{'ASY': 0, 'NAP': 1, 'ATA': 2, 'TA': 3}\n"
     ]
    },
    {
     "data": {
      "text/html": [
       "<div>\n",
       "<style scoped>\n",
       "    .dataframe tbody tr th:only-of-type {\n",
       "        vertical-align: middle;\n",
       "    }\n",
       "\n",
       "    .dataframe tbody tr th {\n",
       "        vertical-align: top;\n",
       "    }\n",
       "\n",
       "    .dataframe thead th {\n",
       "        text-align: right;\n",
       "    }\n",
       "</style>\n",
       "<table border=\"1\" class=\"dataframe\">\n",
       "  <thead>\n",
       "    <tr style=\"text-align: right;\">\n",
       "      <th></th>\n",
       "      <th>Age</th>\n",
       "      <th>Sex</th>\n",
       "      <th>ChestPainType</th>\n",
       "      <th>RestingBP</th>\n",
       "      <th>Cholesterol</th>\n",
       "      <th>FastingBS</th>\n",
       "      <th>RestingECG</th>\n",
       "      <th>MaxHR</th>\n",
       "      <th>ExerciseAngina</th>\n",
       "      <th>Oldpeak</th>\n",
       "      <th>ST_Slope</th>\n",
       "      <th>HeartDisease</th>\n",
       "    </tr>\n",
       "  </thead>\n",
       "  <tbody>\n",
       "    <tr>\n",
       "      <th>0</th>\n",
       "      <td>40</td>\n",
       "      <td>0</td>\n",
       "      <td>2</td>\n",
       "      <td>140</td>\n",
       "      <td>289</td>\n",
       "      <td>0</td>\n",
       "      <td>0</td>\n",
       "      <td>172</td>\n",
       "      <td>0</td>\n",
       "      <td>0.0</td>\n",
       "      <td>1</td>\n",
       "      <td>0</td>\n",
       "    </tr>\n",
       "    <tr>\n",
       "      <th>1</th>\n",
       "      <td>49</td>\n",
       "      <td>1</td>\n",
       "      <td>1</td>\n",
       "      <td>160</td>\n",
       "      <td>180</td>\n",
       "      <td>0</td>\n",
       "      <td>0</td>\n",
       "      <td>156</td>\n",
       "      <td>0</td>\n",
       "      <td>1.0</td>\n",
       "      <td>0</td>\n",
       "      <td>1</td>\n",
       "    </tr>\n",
       "    <tr>\n",
       "      <th>2</th>\n",
       "      <td>37</td>\n",
       "      <td>0</td>\n",
       "      <td>2</td>\n",
       "      <td>130</td>\n",
       "      <td>283</td>\n",
       "      <td>0</td>\n",
       "      <td>2</td>\n",
       "      <td>98</td>\n",
       "      <td>0</td>\n",
       "      <td>0.0</td>\n",
       "      <td>1</td>\n",
       "      <td>0</td>\n",
       "    </tr>\n",
       "    <tr>\n",
       "      <th>3</th>\n",
       "      <td>48</td>\n",
       "      <td>1</td>\n",
       "      <td>0</td>\n",
       "      <td>138</td>\n",
       "      <td>214</td>\n",
       "      <td>0</td>\n",
       "      <td>0</td>\n",
       "      <td>108</td>\n",
       "      <td>1</td>\n",
       "      <td>1.5</td>\n",
       "      <td>0</td>\n",
       "      <td>1</td>\n",
       "    </tr>\n",
       "    <tr>\n",
       "      <th>4</th>\n",
       "      <td>54</td>\n",
       "      <td>0</td>\n",
       "      <td>1</td>\n",
       "      <td>150</td>\n",
       "      <td>195</td>\n",
       "      <td>0</td>\n",
       "      <td>0</td>\n",
       "      <td>122</td>\n",
       "      <td>0</td>\n",
       "      <td>0.0</td>\n",
       "      <td>1</td>\n",
       "      <td>0</td>\n",
       "    </tr>\n",
       "  </tbody>\n",
       "</table>\n",
       "</div>"
      ],
      "text/plain": [
       "   Age  Sex  ChestPainType  RestingBP  Cholesterol  FastingBS  RestingECG  \\\n",
       "0   40    0              2        140          289          0           0   \n",
       "1   49    1              1        160          180          0           0   \n",
       "2   37    0              2        130          283          0           2   \n",
       "3   48    1              0        138          214          0           0   \n",
       "4   54    0              1        150          195          0           0   \n",
       "\n",
       "   MaxHR  ExerciseAngina  Oldpeak  ST_Slope  HeartDisease  \n",
       "0    172               0      0.0         1             0  \n",
       "1    156               0      1.0         0             1  \n",
       "2     98               0      0.0         1             0  \n",
       "3    108               1      1.5         0             1  \n",
       "4    122               0      0.0         1             0  "
      ]
     },
     "execution_count": 3,
     "metadata": {},
     "output_type": "execute_result"
    }
   ],
   "source": [
    "# Cmambiar todas las columndas a categorias numéricas\n",
    "categorical_columns = set(database.columns)-set(database._get_numeric_data().columns)\n",
    "clean_database = database.copy()\n",
    "for col in categorical_columns:\n",
    "    category = get_categories(col)\n",
    "    print(col)\n",
    "    print(\"New Category\" + str(category))\n",
    "    clean_database[col] = clean_database[col].replace(category)\n",
    "clean_database.head()"
   ]
  },
  {
   "cell_type": "markdown",
   "id": "d54a226c-87c9-43d7-92a9-54ce0f23c832",
   "metadata": {},
   "source": [
    "# Dividiendo los testcases"
   ]
  },
  {
   "cell_type": "code",
   "execution_count": 4,
   "id": "87aff91d-25b9-41d0-a0ed-0e9a8e24c00d",
   "metadata": {},
   "outputs": [],
   "source": [
    "from sklearn.ensemble import RandomForestClassifier\n",
    "from sklearn.model_selection import train_test_split\n",
    "from sklearn.metrics import accuracy_score\n",
    "X_train, X_test, y_train, y_test = train_test_split(\n",
    "    clean_database.iloc[:,:-1], clean_database.iloc[:,-1], test_size=0.3, random_state=42\n",
    ")"
   ]
  },
  {
   "cell_type": "markdown",
   "id": "d3810a9b-71fc-43f1-a0cd-9ba770e6e375",
   "metadata": {},
   "source": [
    "# Seteando el Flujo en MLFLOW y un random classifier "
   ]
  },
  {
   "cell_type": "code",
   "execution_count": 5,
   "id": "83dce6bf-f46b-445f-91bb-c59a47ac0fee",
   "metadata": {},
   "outputs": [],
   "source": [
    "!mkdir mlruns"
   ]
  },
  {
   "cell_type": "code",
   "execution_count": 28,
   "id": "aebc00d9-300b-4112-8745-4111e333c567",
   "metadata": {},
   "outputs": [
    {
     "name": "stderr",
     "output_type": "stream",
     "text": [
      "2025/05/18 09:46:34 WARNING mlflow.models.model: Model logged without a signature and input example. Please set `input_example` parameter when logging the model to auto infer the model signature.\n"
     ]
    },
    {
     "name": "stdout",
     "output_type": "stream",
     "text": [
      "Model logged with accuracy: 0.8841\n"
     ]
    }
   ],
   "source": [
    "import mlflow\n",
    "import mlflow.sklearn\n",
    "# Set up MLflow experiment (optional)\n",
    "with mlflow.start_run():\n",
    "    mlflow.set_experiment(\"randomforest_experiment\")\n",
    "    # Hyperparameters\n",
    "    n_estimators = 100\n",
    "    max_depth = 3\n",
    "    random_state = 42\n",
    "\n",
    "    mlflow.log_param(\"n_estimators\", n_estimators)\n",
    "    mlflow.log_param(\"max_depth\", max_depth)\n",
    "\n",
    "    clf = RandomForestClassifier(\n",
    "        n_estimators=n_estimators, max_depth=max_depth, random_state=random_state\n",
    "    )\n",
    "    clf.fit(X_train, y_train)\n",
    "\n",
    "    predictions = clf.predict(X_test)\n",
    "    acc = accuracy_score(y_test, predictions)\n",
    "    #Enviando los datos de precision a mlflow\n",
    "    mlflow.log_metric(\"accuracy\", acc) #type:ignore\n",
    "    #Guardando info\n",
    "    mlflow.sklearn.log_model(clf, \"mlruns\")\n",
    "    print(f\"Model logged with accuracy: {acc:.4f}\")"
   ]
  },
  {
   "cell_type": "code",
   "execution_count": 36,
   "id": "66adf336-926e-44db-8378-b7d99d4c27cb",
   "metadata": {},
   "outputs": [
    {
     "name": "stdout",
     "output_type": "stream",
     "text": [
      "0\n",
      "[0]\n"
     ]
    }
   ],
   "source": [
    "# Testing\n",
    "test = clean_database.sample(1)\n",
    "cat = test[\"HeartDisease\"].iloc[0]\n",
    "feat = test.iloc[:,:-1]\n",
    "print(cat)\n",
    "print(clf.predict(feat))"
   ]
  },
  {
   "cell_type": "markdown",
   "id": "ec13ecac-9b9c-4abd-b642-c36305ec913e",
   "metadata": {},
   "source": [
    "# Para correr el servidor de MLFlow en el puerto 9090"
   ]
  },
  {
   "cell_type": "code",
   "execution_count": 35,
   "id": "6297c572-7b2b-4db0-8b90-15adc7e2155b",
   "metadata": {},
   "outputs": [
    {
     "name": "stdout",
     "output_type": "stream",
     "text": [
      "[2025-05-18 09:47:17 -0400] [113130] [INFO] Starting gunicorn 23.0.0\n",
      "[2025-05-18 09:47:17 -0400] [113130] [INFO] Listening at: http://0.0.0.0:9090 (113130)\n",
      "[2025-05-18 09:47:17 -0400] [113130] [INFO] Using worker: sync\n",
      "[2025-05-18 09:47:17 -0400] [113132] [INFO] Booting worker with pid: 113132\n",
      "[2025-05-18 09:47:17 -0400] [113133] [INFO] Booting worker with pid: 113133\n",
      "[2025-05-18 09:47:17 -0400] [113134] [INFO] Booting worker with pid: 113134\n",
      "[2025-05-18 09:47:17 -0400] [113135] [INFO] Booting worker with pid: 113135\n",
      "^C\n",
      "[2025-05-18 09:47:54 -0400] [113130] [INFO] Handling signal: int\n",
      "[2025-05-18 09:47:54 -0400] [113133] [INFO] Worker exiting (pid: 113133)\n",
      "[2025-05-18 09:47:54 -0400] [113132] [INFO] Worker exiting (pid: 113132)\n",
      "[2025-05-18 09:47:54 -0400] [113135] [INFO] Worker exiting (pid: 113135)\n",
      "[2025-05-18 09:47:54 -0400] [113134] [INFO] Worker exiting (pid: 113134)\n"
     ]
    }
   ],
   "source": [
    "!mlflow server --default-artifact-root ./mlruns --host 0.0.0.0 --port 9090"
   ]
  }
 ],
 "metadata": {
  "kernelspec": {
   "display_name": "Python 3 (ipykernel)",
   "language": "python",
   "name": "python3"
  },
  "language_info": {
   "codemirror_mode": {
    "name": "ipython",
    "version": 3
   },
   "file_extension": ".py",
   "mimetype": "text/x-python",
   "name": "python",
   "nbconvert_exporter": "python",
   "pygments_lexer": "ipython3",
   "version": "3.8.20"
  }
 },
 "nbformat": 4,
 "nbformat_minor": 5
}
